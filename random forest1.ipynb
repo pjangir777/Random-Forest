{
 "cells": [
  {
   "cell_type": "code",
   "execution_count": 1,
   "metadata": {},
   "outputs": [],
   "source": [
    "import time\n",
    "import random\n",
    "import os\n",
    "import numpy as np\n",
    "import pandas as pd\n",
    "import seaborn as sns\n",
    "import matplotlib.pyplot as plt\n",
    "from sklearn.metrics import roc_curve, auc\n",
    "from sklearn.metrics import confusion_matrix\n",
    "from sklearn.metrics import classification_report\n",
    "from sklearn.model_selection import KFold, cross_val_score\n",
    "from sklearn.model_selection import train_test_split, GridSearchCV\n",
    "from sklearn.ensemble import RandomForestClassifier \n",
    "import warnings\n",
    "warnings.filterwarnings(\"ignore\") "
   ]
  },
  {
   "cell_type": "code",
   "execution_count": 2,
   "metadata": {},
   "outputs": [],
   "source": [
    "os.chdir(\"C:\\\\Users\\\\Admin\\\\Desktop\\\\Training\\\\DSP31\\\\Python\\\\Treebased\")"
   ]
  },
  {
   "cell_type": "code",
   "execution_count": 3,
   "metadata": {},
   "outputs": [],
   "source": [
    "data=pd.read_csv(\"rf_bank.csv\")"
   ]
  },
  {
   "cell_type": "code",
   "execution_count": 4,
   "metadata": {},
   "outputs": [
    {
     "data": {
      "text/plain": [
       "Index(['Unnamed: 0', 'age', 'balance', 'duration', 'campaign', 'previous',\n",
       "       'default_cat', 'housing_cat', 'loan_cat', 'deposit_cat', 'recent_pdays',\n",
       "       'job_blue-collar', 'job_entrepreneur', 'job_other', 'job_pink-collar',\n",
       "       'job_self-employed', 'job_technician', 'job_white-collar',\n",
       "       'marital_divorced', 'marital_married', 'marital_single',\n",
       "       'education_primary', 'education_secondary', 'education_tertiary',\n",
       "       'education_unknown', 'poutcome_failure', 'poutcome_success',\n",
       "       'poutcome_unknown'],\n",
       "      dtype='object')"
      ]
     },
     "execution_count": 4,
     "metadata": {},
     "output_type": "execute_result"
    }
   ],
   "source": [
    "data.columns"
   ]
  },
  {
   "cell_type": "code",
   "execution_count": 5,
   "metadata": {},
   "outputs": [],
   "source": [
    "X=data.drop(columns=[\"deposit_cat\",'Unnamed: 0'], axis=1)"
   ]
  },
  {
   "cell_type": "code",
   "execution_count": 6,
   "metadata": {},
   "outputs": [],
   "source": [
    "y=data.deposit_cat"
   ]
  },
  {
   "cell_type": "code",
   "execution_count": 44,
   "metadata": {},
   "outputs": [],
   "source": [
    "X_train,X_test,y_train, y_test=train_test_split(X,y,  test_size = 0.2, random_state = 50)"
   ]
  },
  {
   "cell_type": "markdown",
   "metadata": {},
   "source": [
    "Bagging :- bootstrap aggregating or bagging is a method of selecting a random number of \n",
    "    samples from the original set with replacement. In feature bagging the original feature \n",
    "    set is randomly sampled and passed onto different trees (without replacement since having \n",
    "    redundant features makes no sense). This is done to decrease the correlation among trees. \n",
    "    A feature with unmatched great importance will cause every decision tree to choose it for \n",
    "    the first and possible consequent splits, this will make all the trees behave similarly and \n",
    "    ultimately more correlated which is undesirable. Our aim here is to make highly uncorrelated \n",
    "    decision trees."
   ]
  },
  {
   "cell_type": "markdown",
   "metadata": {},
   "source": [
    "Aggregation: - The core concept that makes random forests better than decision trees is \n",
    "    aggregating uncorrelated trees. The idea is to create several crappy model trees \n",
    "    (low depth) and average them out to create a better random forest. Mean of some random \n",
    "    errors is zero hence we can expect generalized predictive results from our forest. \n",
    "    In case of regression we can average out the prediction of each tree (mean) while in \n",
    "    case of classification problems we can simply take the majority of the class voted by \n",
    "    each tree (mode)."
   ]
  },
  {
   "cell_type": "markdown",
   "metadata": {},
   "source": [
    "n_trees : number of uncorrelated trees we ensemble to create the random forest."
   ]
  },
  {
   "cell_type": "markdown",
   "metadata": {},
   "source": [
    "n_features: the number of features to sample and pass onto each tree, this is where feature \n",
    "        bagging happens. It can either be sqrt, log2 or an integer. In case of sqrt, the number of \n",
    "        features sampled to each tree is square root of total features and log base 2 of total features in case of log2"
   ]
  },
  {
   "cell_type": "markdown",
   "metadata": {},
   "source": [
    "sample_size: the number of rows randomly selected and passed onto each tree. \n",
    "    This is usually equal to total number of rows but can be reduced to increase performance \n",
    "    and decrease correlation of trees in some cases (bagging of trees is a completely separate \n",
    "                                                     machine learning technique)"
   ]
  },
  {
   "cell_type": "markdown",
   "metadata": {},
   "source": [
    "depth: depth of each decision tree. Higher depth means more number of splits which increases the \n",
    "    over fitting tendency of each tree but since we are aggregating several uncorrelated trees, \n",
    "    over fitting of individual trees hardly bothers the whole forest"
   ]
  },
  {
   "cell_type": "markdown",
   "metadata": {},
   "source": [
    "min_leaf: minimum number of rows required in a node to cause further split. \n",
    "    Lower the min_leaf, higher the depth of the tree"
   ]
  },
  {
   "cell_type": "markdown",
   "metadata": {},
   "source": [
    "n_estimators: This parameter defines the number of trees in the random forest. \n",
    "    We will start with n_estimator=20 to see how our algorithm performs."
   ]
  },
  {
   "cell_type": "markdown",
   "metadata": {},
   "source": [
    "n_estimators : Number of trees in forest. Default is 10.\n",
    "    \n",
    "criterion: “gini” or “entropy” same as decision tree classifier.\n",
    "    \n",
    "min_samples_split: minimum number of working set size at node required to split. Default is 2."
   ]
  },
  {
   "cell_type": "code",
   "execution_count": 8,
   "metadata": {},
   "outputs": [],
   "source": [
    "model = RandomForestClassifier()  # with default arguments "
   ]
  },
  {
   "cell_type": "code",
   "execution_count": 9,
   "metadata": {},
   "outputs": [
    {
     "data": {
      "text/plain": [
       "RandomForestClassifier(bootstrap=True, class_weight=None, criterion='gini',\n",
       "                       max_depth=None, max_features='auto', max_leaf_nodes=None,\n",
       "                       min_impurity_decrease=0.0, min_impurity_split=None,\n",
       "                       min_samples_leaf=1, min_samples_split=2,\n",
       "                       min_weight_fraction_leaf=0.0, n_estimators=10,\n",
       "                       n_jobs=None, oob_score=False, random_state=None,\n",
       "                       verbose=0, warm_start=False)"
      ]
     },
     "execution_count": 9,
     "metadata": {},
     "output_type": "execute_result"
    }
   ],
   "source": [
    "model.fit(X_train, y_train)"
   ]
  },
  {
   "cell_type": "code",
   "execution_count": 10,
   "metadata": {},
   "outputs": [],
   "source": [
    "fi = pd.DataFrame({'feature': list(X_train.columns),\n",
    "                   'importance': model.feature_importances_}).\\\n",
    "                    sort_values('importance', ascending = False)"
   ]
  },
  {
   "cell_type": "code",
   "execution_count": 11,
   "metadata": {},
   "outputs": [
    {
     "data": {
      "text/html": [
       "<div>\n",
       "<style scoped>\n",
       "    .dataframe tbody tr th:only-of-type {\n",
       "        vertical-align: middle;\n",
       "    }\n",
       "\n",
       "    .dataframe tbody tr th {\n",
       "        vertical-align: top;\n",
       "    }\n",
       "\n",
       "    .dataframe thead th {\n",
       "        text-align: right;\n",
       "    }\n",
       "</style>\n",
       "<table border=\"1\" class=\"dataframe\">\n",
       "  <thead>\n",
       "    <tr style=\"text-align: right;\">\n",
       "      <th></th>\n",
       "      <th>feature</th>\n",
       "      <th>importance</th>\n",
       "    </tr>\n",
       "  </thead>\n",
       "  <tbody>\n",
       "    <tr>\n",
       "      <td>2</td>\n",
       "      <td>duration</td>\n",
       "      <td>0.394132</td>\n",
       "    </tr>\n",
       "    <tr>\n",
       "      <td>1</td>\n",
       "      <td>balance</td>\n",
       "      <td>0.131308</td>\n",
       "    </tr>\n",
       "    <tr>\n",
       "      <td>0</td>\n",
       "      <td>age</td>\n",
       "      <td>0.121591</td>\n",
       "    </tr>\n",
       "    <tr>\n",
       "      <td>3</td>\n",
       "      <td>campaign</td>\n",
       "      <td>0.051185</td>\n",
       "    </tr>\n",
       "    <tr>\n",
       "      <td>8</td>\n",
       "      <td>recent_pdays</td>\n",
       "      <td>0.048372</td>\n",
       "    </tr>\n",
       "    <tr>\n",
       "      <td>24</td>\n",
       "      <td>poutcome_success</td>\n",
       "      <td>0.042651</td>\n",
       "    </tr>\n",
       "    <tr>\n",
       "      <td>6</td>\n",
       "      <td>housing_cat</td>\n",
       "      <td>0.032921</td>\n",
       "    </tr>\n",
       "    <tr>\n",
       "      <td>4</td>\n",
       "      <td>previous</td>\n",
       "      <td>0.029224</td>\n",
       "    </tr>\n",
       "    <tr>\n",
       "      <td>7</td>\n",
       "      <td>loan_cat</td>\n",
       "      <td>0.012452</td>\n",
       "    </tr>\n",
       "    <tr>\n",
       "      <td>21</td>\n",
       "      <td>education_tertiary</td>\n",
       "      <td>0.011603</td>\n",
       "    </tr>\n",
       "    <tr>\n",
       "      <td>15</td>\n",
       "      <td>job_white-collar</td>\n",
       "      <td>0.011347</td>\n",
       "    </tr>\n",
       "    <tr>\n",
       "      <td>17</td>\n",
       "      <td>marital_married</td>\n",
       "      <td>0.010969</td>\n",
       "    </tr>\n",
       "    <tr>\n",
       "      <td>11</td>\n",
       "      <td>job_other</td>\n",
       "      <td>0.010611</td>\n",
       "    </tr>\n",
       "    <tr>\n",
       "      <td>9</td>\n",
       "      <td>job_blue-collar</td>\n",
       "      <td>0.010541</td>\n",
       "    </tr>\n",
       "    <tr>\n",
       "      <td>20</td>\n",
       "      <td>education_secondary</td>\n",
       "      <td>0.010236</td>\n",
       "    </tr>\n",
       "    <tr>\n",
       "      <td>14</td>\n",
       "      <td>job_technician</td>\n",
       "      <td>0.009942</td>\n",
       "    </tr>\n",
       "    <tr>\n",
       "      <td>18</td>\n",
       "      <td>marital_single</td>\n",
       "      <td>0.008706</td>\n",
       "    </tr>\n",
       "    <tr>\n",
       "      <td>25</td>\n",
       "      <td>poutcome_unknown</td>\n",
       "      <td>0.008258</td>\n",
       "    </tr>\n",
       "    <tr>\n",
       "      <td>12</td>\n",
       "      <td>job_pink-collar</td>\n",
       "      <td>0.007846</td>\n",
       "    </tr>\n",
       "    <tr>\n",
       "      <td>16</td>\n",
       "      <td>marital_divorced</td>\n",
       "      <td>0.006847</td>\n",
       "    </tr>\n",
       "    <tr>\n",
       "      <td>19</td>\n",
       "      <td>education_primary</td>\n",
       "      <td>0.006093</td>\n",
       "    </tr>\n",
       "    <tr>\n",
       "      <td>23</td>\n",
       "      <td>poutcome_failure</td>\n",
       "      <td>0.005970</td>\n",
       "    </tr>\n",
       "    <tr>\n",
       "      <td>22</td>\n",
       "      <td>education_unknown</td>\n",
       "      <td>0.004975</td>\n",
       "    </tr>\n",
       "    <tr>\n",
       "      <td>13</td>\n",
       "      <td>job_self-employed</td>\n",
       "      <td>0.004969</td>\n",
       "    </tr>\n",
       "    <tr>\n",
       "      <td>10</td>\n",
       "      <td>job_entrepreneur</td>\n",
       "      <td>0.004639</td>\n",
       "    </tr>\n",
       "    <tr>\n",
       "      <td>5</td>\n",
       "      <td>default_cat</td>\n",
       "      <td>0.002611</td>\n",
       "    </tr>\n",
       "  </tbody>\n",
       "</table>\n",
       "</div>"
      ],
      "text/plain": [
       "                feature  importance\n",
       "2              duration    0.394132\n",
       "1               balance    0.131308\n",
       "0                   age    0.121591\n",
       "3              campaign    0.051185\n",
       "8          recent_pdays    0.048372\n",
       "24     poutcome_success    0.042651\n",
       "6           housing_cat    0.032921\n",
       "4              previous    0.029224\n",
       "7              loan_cat    0.012452\n",
       "21   education_tertiary    0.011603\n",
       "15     job_white-collar    0.011347\n",
       "17      marital_married    0.010969\n",
       "11            job_other    0.010611\n",
       "9       job_blue-collar    0.010541\n",
       "20  education_secondary    0.010236\n",
       "14       job_technician    0.009942\n",
       "18       marital_single    0.008706\n",
       "25     poutcome_unknown    0.008258\n",
       "12      job_pink-collar    0.007846\n",
       "16     marital_divorced    0.006847\n",
       "19    education_primary    0.006093\n",
       "23     poutcome_failure    0.005970\n",
       "22    education_unknown    0.004975\n",
       "13    job_self-employed    0.004969\n",
       "10     job_entrepreneur    0.004639\n",
       "5           default_cat    0.002611"
      ]
     },
     "execution_count": 11,
     "metadata": {},
     "output_type": "execute_result"
    }
   ],
   "source": [
    "fi"
   ]
  },
  {
   "cell_type": "code",
   "execution_count": 33,
   "metadata": {},
   "outputs": [],
   "source": [
    "fi.to_csv(\"var_imp3.csv\")"
   ]
  },
  {
   "cell_type": "code",
   "execution_count": 40,
   "metadata": {},
   "outputs": [
    {
     "data": {
      "text/plain": [
       "0.8070332624034047"
      ]
     },
     "execution_count": 40,
     "metadata": {},
     "output_type": "execute_result"
    }
   ],
   "source": [
    "model.score(X_train, y_train)"
   ]
  },
  {
   "cell_type": "code",
   "execution_count": 41,
   "metadata": {},
   "outputs": [
    {
     "data": {
      "text/plain": [
       "0.7931034482758621"
      ]
     },
     "execution_count": 41,
     "metadata": {},
     "output_type": "execute_result"
    }
   ],
   "source": [
    "model.score(X_test, y_test)"
   ]
  },
  {
   "cell_type": "code",
   "execution_count": 9,
   "metadata": {},
   "outputs": [
    {
     "data": {
      "text/plain": [
       "RandomForestClassifier(bootstrap=True, class_weight=None, criterion='gini',\n",
       "                       max_depth=None, max_features='auto', max_leaf_nodes=None,\n",
       "                       min_impurity_decrease=0.0, min_impurity_split=None,\n",
       "                       min_samples_leaf=1, min_samples_split=2,\n",
       "                       min_weight_fraction_leaf=0.0, n_estimators=10,\n",
       "                       n_jobs=None, oob_score=False, random_state=None,\n",
       "                       verbose=0, warm_start=False)"
      ]
     },
     "execution_count": 9,
     "metadata": {},
     "output_type": "execute_result"
    }
   ],
   "source": [
    "from sklearn.ensemble import RandomForestClassifier\n",
    "rf = RandomForestClassifier()\n",
    "rf.fit(X_train, y_train)"
   ]
  },
  {
   "cell_type": "code",
   "execution_count": 10,
   "metadata": {},
   "outputs": [
    {
     "data": {
      "text/plain": [
       "0.9995737425404945"
      ]
     },
     "execution_count": 10,
     "metadata": {},
     "output_type": "execute_result"
    }
   ],
   "source": [
    "y_pred = rf.predict(X_test)\n",
    "from sklearn.metrics import roc_curve, auc\n",
    "false_positive_rate, true_positive_rate, thresholds = roc_curve(y_test, y_pred)\n",
    "roc_auc = auc(false_positive_rate, true_positive_rate)\n",
    "roc_auc"
   ]
  },
  {
   "cell_type": "markdown",
   "metadata": {},
   "source": [
    "#### N_estimators"
   ]
  },
  {
   "cell_type": "markdown",
   "metadata": {},
   "source": [
    "\n",
    "n_estimators represents the number of trees in the forest. \n",
    "Usually the higher the number of trees the better to learn the data. \n",
    "However, adding a lot of trees can slow down the training process considerably, \n",
    "therefore we do a parameter search to find the sweet spot."
   ]
  },
  {
   "cell_type": "code",
   "execution_count": 14,
   "metadata": {},
   "outputs": [
    {
     "data": {
      "image/png": "[encoded data removed]",
      "text/plain": [
       "<Figure size 432x288 with 1 Axes>"
      ]
     },
     "metadata": {
      "needs_background": "light"
     },
     "output_type": "display_data"
    }
   ],
   "source": [
    "\n",
    "n_estimators = [5,10,15,20,25,30,35,40,45,50 ]\n",
    "train_results = []\n",
    "test_results = []\n",
    "for estimator in n_estimators:\n",
    "    rf = RandomForestClassifier(n_estimators=estimator, n_jobs=-1)\n",
    "    rf.fit(X_train, y_train)\n",
    "    train_pred = rf.predict(X_train)\n",
    "    false_positive_rate, true_positive_rate, thresholds = roc_curve(y_train, train_pred)\n",
    "    roc_auc = auc(false_positive_rate, true_positive_rate)\n",
    "    train_results.append(roc_auc)\n",
    "    y_pred = rf.predict(X_test)\n",
    "    false_positive_rate, true_positive_rate, thresholds = roc_curve(y_test, y_pred)\n",
    "    roc_auc = auc(false_positive_rate, true_positive_rate)\n",
    "    test_results.append(roc_auc)\n",
    "from matplotlib.legend_handler import HandlerLine2D\n",
    "line1 = plt.plot(n_estimators, train_results,\"b\" , label=\"Train AUC\")\n",
    "line2 = plt.plot(n_estimators, test_results, \"r\", label=\"Test AUC\")\n",
    "plt.ylabel(\"AUC score\")\n",
    "plt.xlabel(\"n_estimators\")\n",
    "plt.show()"
   ]
  },
  {
   "cell_type": "markdown",
   "metadata": {},
   "source": [
    "##### max_depth"
   ]
  },
  {
   "cell_type": "markdown",
   "metadata": {},
   "source": [
    "max_depth represents the depth of each tree in the forest. The deeper the tree, the more splits it has and it captures more information about the data. We fit each decision tree with depths ranging from 1 to 32 and plot the training and test errors"
   ]
  },
  {
   "cell_type": "code",
   "execution_count": 15,
   "metadata": {},
   "outputs": [
    {
     "data": {
      "image/png": "[encoded data removed]",
      "text/plain": [
       "<Figure size 432x288 with 1 Axes>"
      ]
     },
     "metadata": {
      "needs_background": "light"
     },
     "output_type": "display_data"
    }
   ],
   "source": [
    "max_depths = np.linspace(1, 32, 32, endpoint=True)\n",
    "train_results = []\n",
    "test_results = []\n",
    "for max_depth in max_depths:\n",
    "    rf = RandomForestClassifier(max_depth=max_depth, n_jobs=-1)\n",
    "    rf.fit(X_train, y_train)\n",
    "    train_pred = rf.predict(X_train)\n",
    "    false_positive_rate, true_positive_rate, thresholds = roc_curve(y_train, train_pred)\n",
    "    roc_auc = auc(false_positive_rate, true_positive_rate)\n",
    "    train_results.append(roc_auc)\n",
    "    y_pred = rf.predict(X_test)\n",
    "    false_positive_rate, true_positive_rate, thresholds = roc_curve(y_test, y_pred)\n",
    "    roc_auc = auc(false_positive_rate, true_positive_rate)\n",
    "    test_results.append(roc_auc)\n",
    "from matplotlib.legend_handler import HandlerLine2D\n",
    "line1, = plt.plot(max_depths, train_results, \"b\", label=\"Train AUC\")\n",
    "line2, = plt.plot(max_depths, test_results, \"r\", label=\"Test AUC\")\n",
    "plt.legend(handler_map={line1: HandlerLine2D(numpoints=2)})\n",
    "plt.ylabel(\"AUC score\")\n",
    "plt.xlabel(\"Tree depth\")\n",
    "plt.show()"
   ]
  },
  {
   "cell_type": "markdown",
   "metadata": {},
   "source": [
    "##### min_samples_split"
   ]
  },
  {
   "cell_type": "markdown",
   "metadata": {},
   "source": [
    "min_samples_split represents the minimum number of samples required to split an internal node. This can vary between considering at least one sample at each node to considering all of the samples at each node. When we increase this parameter, each tree in the forest becomes more constrained as it has to consider more samples at each node. Here we will vary the parameter from 10% to 100% of the samples"
   ]
  },
  {
   "cell_type": "code",
   "execution_count": 16,
   "metadata": {
    "scrolled": true
   },
   "outputs": [
    {
     "data": {
      "image/png": "[encoded data removed]",
      "text/plain": [
       "<Figure size 432x288 with 1 Axes>"
      ]
     },
     "metadata": {
      "needs_background": "light"
     },
     "output_type": "display_data"
    }
   ],
   "source": [
    "\n",
    "min_samples_splits = np.linspace(0.1, 1.0, 10, endpoint=True)\n",
    "train_results = []\n",
    "test_results = []\n",
    "for min_samples_split in min_samples_splits:\n",
    "    rf = RandomForestClassifier(min_samples_split=min_samples_split)\n",
    "    rf.fit(X_train, y_train)\n",
    "    train_pred = rf.predict(X_train)\n",
    "    false_positive_rate, true_positive_rate, thresholds = roc_curve(y_train, train_pred)\n",
    "    roc_auc = auc(false_positive_rate, true_positive_rate)\n",
    "    train_results.append(roc_auc)\n",
    "    y_pred = rf.predict(X_test)\n",
    "    false_positive_rate, true_positive_rate, thresholds = roc_curve(y_test, y_pred)\n",
    "    roc_auc = auc(false_positive_rate, true_positive_rate)\n",
    "    test_results.append(roc_auc)\n",
    "from matplotlib.legend_handler import HandlerLine2D\n",
    "line1, = plt.plot(min_samples_splits, train_results, \"b\", label=\"Train AUC\")\n",
    "line2, = plt.plot(min_samples_splits, test_results, \"r\", label=\"Test AUC\")\n",
    "plt.legend(handler_map={line1: HandlerLine2D(numpoints=2)})\n",
    "plt.ylabel(\"AUC Score\")\n",
    "plt.xlabel(\"min samples split\")\n",
    "plt.show()"
   ]
  },
  {
   "cell_type": "markdown",
   "metadata": {},
   "source": [
    "##### min_samples_leaf"
   ]
  },
  {
   "cell_type": "markdown",
   "metadata": {},
   "source": [
    "min_samples_leaf is The minimum number of samples required to be at a leaf node. This parameter is similar to min_samples_splits, however, this describe the minimum number of samples of samples at the leafs, the base of the tree"
   ]
  },
  {
   "cell_type": "code",
   "execution_count": 17,
   "metadata": {},
   "outputs": [
    {
     "data": {
      "image/png": "[encoded data removed]",
      "text/plain": [
       "<Figure size 432x288 with 1 Axes>"
      ]
     },
     "metadata": {
      "needs_background": "light"
     },
     "output_type": "display_data"
    }
   ],
   "source": [
    "min_samples_leafs = np.linspace(0.1, 0.5, 5, endpoint=True)\n",
    "train_results = []\n",
    "test_results = []\n",
    "for min_samples_leaf in min_samples_leafs:\n",
    "    rf = RandomForestClassifier(min_samples_leaf=min_samples_leaf)\n",
    "    rf.fit(X_train, y_train)\n",
    "    train_pred = rf.predict(X_train)\n",
    "    false_positive_rate, true_positive_rate, thresholds = roc_curve(y_train, train_pred)\n",
    "    roc_auc = auc(false_positive_rate, true_positive_rate)\n",
    "    train_results.append(roc_auc)\n",
    "    y_pred = rf.predict(X_test)\n",
    "    false_positive_rate, true_positive_rate, thresholds = roc_curve(y_test, y_pred)\n",
    "    roc_auc = auc(false_positive_rate, true_positive_rate)\n",
    "    test_results.append(roc_auc)\n",
    "from matplotlib.legend_handler import HandlerLine2D\n",
    "line1, = plt.plot(min_samples_leafs, train_results, \"b\", label=\"Train AUC\")\n",
    "line2, = plt.plot(min_samples_leafs, test_results, \"r\", label=\"Test AUC\")\n",
    "plt.legend(handler_map={line1: HandlerLine2D(numpoints=2)})\n",
    "plt.ylabel(\"AUC score\")\n",
    "plt.xlabel(\"min samples leaf\")\n",
    "plt.show()"
   ]
  },
  {
   "cell_type": "markdown",
   "metadata": {},
   "source": [
    "##### max_features"
   ]
  },
  {
   "cell_type": "markdown",
   "metadata": {},
   "source": [
    "max_features represents the number of features to consider when looking for the best split."
   ]
  },
  {
   "cell_type": "code",
   "execution_count": 19,
   "metadata": {},
   "outputs": [
    {
     "data": {
      "text/plain": [
       "(8929, 26)"
      ]
     },
     "execution_count": 19,
     "metadata": {},
     "output_type": "execute_result"
    }
   ],
   "source": [
    "X_train.shape"
   ]
  },
  {
   "cell_type": "code",
   "execution_count": 18,
   "metadata": {},
   "outputs": [
    {
     "data": {
      "image/png": "[encoded data removed]",
      "text/plain": [
       "<Figure size 432x288 with 1 Axes>"
      ]
     },
     "metadata": {
      "needs_background": "light"
     },
     "output_type": "display_data"
    }
   ],
   "source": [
    "max_features = list(range(1,X_train.shape[1]))\n",
    "train_results = []\n",
    "test_results = []\n",
    "for max_feature in max_features:\n",
    "    rf = RandomForestClassifier(max_features=max_feature)\n",
    "    rf.fit(X_train, y_train)\n",
    "    train_pred = rf.predict(X_train)\n",
    "    false_positive_rate, true_positive_rate, thresholds = roc_curve(y_train, train_pred)\n",
    "    roc_auc = auc(false_positive_rate, true_positive_rate)\n",
    "    train_results.append(roc_auc)\n",
    "    y_pred = rf.predict(X_test)\n",
    "    false_positive_rate, true_positive_rate, thresholds = roc_curve(y_test, y_pred)\n",
    "    roc_auc = auc(false_positive_rate, true_positive_rate)\n",
    "    test_results.append(roc_auc)\n",
    "from matplotlib.legend_handler import HandlerLine2D\n",
    "line1, = plt.plot(max_features, train_results,\"b\", label=\"Train AUC\")\n",
    "line2, = plt.plot(max_features, test_results, \"r\", label=\"test AUC\")\n",
    "plt.legend(handler_map={line1: HandlerLine2D(numpoints=2)})\n",
    "plt.ylabel(\"AUC Score\")\n",
    "plt.xlabel(\"max features\")\n",
    "plt.show()\n"
   ]
  },
  {
   "cell_type": "code",
   "execution_count": 23,
   "metadata": {},
   "outputs": [
    {
     "name": "stdout",
     "output_type": "stream",
     "text": [
      "Train 0.6604828614983673\n",
      "Test 0.6583980762116167\n"
     ]
    }
   ],
   "source": [
    "fit_rf1 = RandomForestClassifier(random_state=42, n_estimators=10, max_depth=5, min_samples_leaf=0.25, min_samples_split=0.1)\n",
    "fit_rf1.fit(X_train, y_train)\n",
    "train_pred = fit_rf1.predict(X_train)\n",
    "false_positive_rate, true_positive_rate, thresholds = roc_curve(y_train, train_pred)\n",
    "roc_auc1 = auc(false_positive_rate, true_positive_rate)\n",
    "y_pred = fit_rf1.predict(X_test)\n",
    "false_positive_rate, true_positive_rate, thresholds = roc_curve(y_test, y_pred)\n",
    "roc_auc2 = auc(false_positive_rate, true_positive_rate)\n",
    "print(\"Train\", roc_auc1)\n",
    "print(\"Test\", roc_auc2)"
   ]
  },
  {
   "cell_type": "code",
   "execution_count": 24,
   "metadata": {},
   "outputs": [
    {
     "data": {
      "text/plain": [
       "50400"
      ]
     },
     "execution_count": 24,
     "metadata": {},
     "output_type": "execute_result"
    }
   ],
   "source": [
    "7*5*9*2*4*2*10"
   ]
  },
  {
   "cell_type": "code",
   "execution_count": 26,
   "metadata": {},
   "outputs": [
    {
     "name": "stdout",
     "output_type": "stream",
     "text": [
      "Fitting 5 folds for each of 960 candidates, totalling 4800 fits\n"
     ]
    },
    {
     "name": "stderr",
     "output_type": "stream",
     "text": [
      "[Parallel(n_jobs=-1)]: Using backend LokyBackend with 4 concurrent workers.\n",
      "[Parallel(n_jobs=-1)]: Done  42 tasks      | elapsed:   12.7s\n",
      "[Parallel(n_jobs=-1)]: Done 192 tasks      | elapsed:   19.8s\n",
      "[Parallel(n_jobs=-1)]: Done 442 tasks      | elapsed:   38.5s\n",
      "[Parallel(n_jobs=-1)]: Done 792 tasks      | elapsed:  1.1min\n",
      "[Parallel(n_jobs=-1)]: Done 1242 tasks      | elapsed:  1.9min\n",
      "[Parallel(n_jobs=-1)]: Done 1792 tasks      | elapsed:  2.6min\n",
      "[Parallel(n_jobs=-1)]: Done 2442 tasks      | elapsed:  3.8min\n",
      "[Parallel(n_jobs=-1)]: Done 3192 tasks      | elapsed:  4.9min\n",
      "[Parallel(n_jobs=-1)]: Done 4042 tasks      | elapsed:  6.6min\n",
      "[Parallel(n_jobs=-1)]: Done 4800 out of 4800 | elapsed:  8.5min finished\n"
     ]
    },
    {
     "name": "stdout",
     "output_type": "stream",
     "text": [
      "Best Parameters using grid search: \n",
      " {'bootstrap': False, 'criterion': 'entropy', 'max_depth': 10, 'max_features': 'auto', 'min_samples_split': 10, 'n_estimators': 16}\n",
      "Time taken in grid search:  508.56\n"
     ]
    }
   ],
   "source": [
    "fit_rf = RandomForestClassifier(random_state=42)\n",
    "start = time.time()\n",
    "param_dist = {'max_depth':[5,6,8,10],\n",
    "              'min_samples_split':[2,4,6,10],\n",
    "              'n_estimators':[1, 2, 4, 8, 16],\n",
    "              'bootstrap': [True, False],\n",
    "              'max_features': ['auto', 'sqrt', None],\n",
    "              'criterion': ['gini', 'entropy']}\n",
    "\n",
    "cv_rf = GridSearchCV(fit_rf, cv = 5,\n",
    "                     param_grid=param_dist, \n",
    "                     n_jobs = -1, verbose=1)\n",
    "\n",
    "cv_rf.fit(X_train, y_train)\n",
    "print('Best Parameters using grid search: \\n', \n",
    "      cv_rf.best_params_)\n",
    "end = time.time()\n",
    "print('Time taken in grid search: {0: .2f}'.format(end - start))"
   ]
  },
  {
   "cell_type": "code",
   "execution_count": 27,
   "metadata": {},
   "outputs": [
    {
     "data": {
      "text/plain": [
       "{'bootstrap': False,\n",
       " 'criterion': 'entropy',\n",
       " 'max_depth': 10,\n",
       " 'max_features': 'auto',\n",
       " 'min_samples_split': 10,\n",
       " 'n_estimators': 16}"
      ]
     },
     "execution_count": 27,
     "metadata": {},
     "output_type": "execute_result"
    }
   ],
   "source": [
    "cv_rf.best_params_"
   ]
  },
  {
   "cell_type": "code",
   "execution_count": 28,
   "metadata": {},
   "outputs": [
    {
     "data": {
      "text/plain": [
       "0.8152088699742412"
      ]
     },
     "execution_count": 28,
     "metadata": {},
     "output_type": "execute_result"
    }
   ],
   "source": [
    "cv_rf.best_score_"
   ]
  },
  {
   "cell_type": "code",
   "execution_count": 45,
   "metadata": {},
   "outputs": [
    {
     "data": {
      "text/plain": [
       "RandomForestClassifier(bootstrap=False, class_weight=None, criterion='entropy',\n",
       "                       max_depth=10, max_features='auto', max_leaf_nodes=None,\n",
       "                       min_impurity_decrease=0.0, min_impurity_split=None,\n",
       "                       min_samples_leaf=1, min_samples_split=10,\n",
       "                       min_weight_fraction_leaf=0.0, n_estimators=16,\n",
       "                       n_jobs=None, oob_score=False, random_state=None,\n",
       "                       verbose=0, warm_start=False)"
      ]
     },
     "execution_count": 45,
     "metadata": {},
     "output_type": "execute_result"
    }
   ],
   "source": [
    "X_train,X_test,y_train, y_test=train_test_split(X,y,  test_size = 0.2, random_state = 50)\n",
    "\n",
    "model = RandomForestClassifier(n_estimators=16, \n",
    "                               bootstrap=False, criterion='entropy',\n",
    "                               min_samples_split=10,\n",
    "                               max_depth=10, max_features='auto')\n",
    "model.fit(X_train, y_train)\n"
   ]
  },
  {
   "cell_type": "code",
   "execution_count": 46,
   "metadata": {},
   "outputs": [],
   "source": [
    "y_pred_train =model.predict(X_train)\n",
    "y_pred_test =model.predict(X_test)"
   ]
  },
  {
   "cell_type": "code",
   "execution_count": 47,
   "metadata": {},
   "outputs": [
    {
     "name": "stdout",
     "output_type": "stream",
     "text": [
      "              precision    recall  f1-score   support\n",
      "\n",
      "           0       0.70      0.88      0.78      4700\n",
      "           1       0.81      0.59      0.68      4229\n",
      "\n",
      "    accuracy                           0.74      8929\n",
      "   macro avg       0.76      0.73      0.73      8929\n",
      "weighted avg       0.76      0.74      0.73      8929\n",
      "\n"
     ]
    }
   ],
   "source": [
    "print(classification_report(y_train, y_pred_train))"
   ]
  },
  {
   "cell_type": "code",
   "execution_count": 48,
   "metadata": {},
   "outputs": [
    {
     "name": "stdout",
     "output_type": "stream",
     "text": [
      "              precision    recall  f1-score   support\n",
      "\n",
      "           0       0.66      0.84      0.74      1173\n",
      "           1       0.75      0.52      0.61      1060\n",
      "\n",
      "    accuracy                           0.69      2233\n",
      "   macro avg       0.70      0.68      0.67      2233\n",
      "weighted avg       0.70      0.69      0.68      2233\n",
      "\n"
     ]
    }
   ],
   "source": [
    "print(classification_report(y_test, y_pred_test))"
   ]
  },
  {
   "cell_type": "code",
   "execution_count": 34,
   "metadata": {},
   "outputs": [],
   "source": [
    "# 1. Noise - Variables , Data related \n",
    "# 2. Parametrs \n",
    "# 3. Algorithms\n",
    "# 4. Low data"
   ]
  },
  {
   "cell_type": "code",
   "execution_count": 36,
   "metadata": {},
   "outputs": [
    {
     "data": {
      "text/plain": [
       "{'bootstrap': False,\n",
       " 'criterion': 'entropy',\n",
       " 'max_depth': 10,\n",
       " 'max_features': 'auto',\n",
       " 'min_samples_split': 10,\n",
       " 'n_estimators': 16}"
      ]
     },
     "execution_count": 36,
     "metadata": {},
     "output_type": "execute_result"
    }
   ],
   "source": [
    "cv_rf.best_params_"
   ]
  },
  {
   "cell_type": "code",
   "execution_count": 37,
   "metadata": {
    "scrolled": true
   },
   "outputs": [],
   "source": [
    "# param_dist = {'max_depth':[5,6,8,10],\n",
    "#               'min_samples_split':[2,4,6,10],\n",
    "#               'n_estimators':[1, 2, 4, 8, 16],\n",
    "#               'bootstrap': [True, False],\n",
    "#               'max_features': ['auto', 'sqrt', None],\n",
    "#               'criterion': ['gini', 'entropy']}"
   ]
  },
  {
   "cell_type": "code",
   "execution_count": 39,
   "metadata": {},
   "outputs": [
    {
     "data": {
      "text/html": [
       "<div>\n",
       "<style scoped>\n",
       "    .dataframe tbody tr th:only-of-type {\n",
       "        vertical-align: middle;\n",
       "    }\n",
       "\n",
       "    .dataframe tbody tr th {\n",
       "        vertical-align: top;\n",
       "    }\n",
       "\n",
       "    .dataframe thead th {\n",
       "        text-align: right;\n",
       "    }\n",
       "</style>\n",
       "<table border=\"1\" class=\"dataframe\">\n",
       "  <thead>\n",
       "    <tr style=\"text-align: right;\">\n",
       "      <th></th>\n",
       "      <th>feature</th>\n",
       "      <th>importance</th>\n",
       "    </tr>\n",
       "  </thead>\n",
       "  <tbody>\n",
       "    <tr>\n",
       "      <td>2</td>\n",
       "      <td>duration</td>\n",
       "      <td>0.520772</td>\n",
       "    </tr>\n",
       "    <tr>\n",
       "      <td>8</td>\n",
       "      <td>recent_pdays</td>\n",
       "      <td>0.072206</td>\n",
       "    </tr>\n",
       "    <tr>\n",
       "      <td>24</td>\n",
       "      <td>poutcome_success</td>\n",
       "      <td>0.064813</td>\n",
       "    </tr>\n",
       "    <tr>\n",
       "      <td>0</td>\n",
       "      <td>age</td>\n",
       "      <td>0.055579</td>\n",
       "    </tr>\n",
       "    <tr>\n",
       "      <td>6</td>\n",
       "      <td>housing_cat</td>\n",
       "      <td>0.053639</td>\n",
       "    </tr>\n",
       "    <tr>\n",
       "      <td>1</td>\n",
       "      <td>balance</td>\n",
       "      <td>0.049658</td>\n",
       "    </tr>\n",
       "    <tr>\n",
       "      <td>25</td>\n",
       "      <td>poutcome_unknown</td>\n",
       "      <td>0.030031</td>\n",
       "    </tr>\n",
       "    <tr>\n",
       "      <td>3</td>\n",
       "      <td>campaign</td>\n",
       "      <td>0.029636</td>\n",
       "    </tr>\n",
       "    <tr>\n",
       "      <td>4</td>\n",
       "      <td>previous</td>\n",
       "      <td>0.027206</td>\n",
       "    </tr>\n",
       "    <tr>\n",
       "      <td>11</td>\n",
       "      <td>job_other</td>\n",
       "      <td>0.016368</td>\n",
       "    </tr>\n",
       "    <tr>\n",
       "      <td>7</td>\n",
       "      <td>loan_cat</td>\n",
       "      <td>0.010849</td>\n",
       "    </tr>\n",
       "    <tr>\n",
       "      <td>17</td>\n",
       "      <td>marital_married</td>\n",
       "      <td>0.010456</td>\n",
       "    </tr>\n",
       "    <tr>\n",
       "      <td>23</td>\n",
       "      <td>poutcome_failure</td>\n",
       "      <td>0.010322</td>\n",
       "    </tr>\n",
       "    <tr>\n",
       "      <td>21</td>\n",
       "      <td>education_tertiary</td>\n",
       "      <td>0.007391</td>\n",
       "    </tr>\n",
       "    <tr>\n",
       "      <td>9</td>\n",
       "      <td>job_blue-collar</td>\n",
       "      <td>0.006887</td>\n",
       "    </tr>\n",
       "    <tr>\n",
       "      <td>18</td>\n",
       "      <td>marital_single</td>\n",
       "      <td>0.006368</td>\n",
       "    </tr>\n",
       "    <tr>\n",
       "      <td>19</td>\n",
       "      <td>education_primary</td>\n",
       "      <td>0.005777</td>\n",
       "    </tr>\n",
       "    <tr>\n",
       "      <td>20</td>\n",
       "      <td>education_secondary</td>\n",
       "      <td>0.004939</td>\n",
       "    </tr>\n",
       "    <tr>\n",
       "      <td>15</td>\n",
       "      <td>job_white-collar</td>\n",
       "      <td>0.002905</td>\n",
       "    </tr>\n",
       "    <tr>\n",
       "      <td>14</td>\n",
       "      <td>job_technician</td>\n",
       "      <td>0.002682</td>\n",
       "    </tr>\n",
       "    <tr>\n",
       "      <td>12</td>\n",
       "      <td>job_pink-collar</td>\n",
       "      <td>0.002289</td>\n",
       "    </tr>\n",
       "    <tr>\n",
       "      <td>16</td>\n",
       "      <td>marital_divorced</td>\n",
       "      <td>0.002206</td>\n",
       "    </tr>\n",
       "    <tr>\n",
       "      <td>10</td>\n",
       "      <td>job_entrepreneur</td>\n",
       "      <td>0.002151</td>\n",
       "    </tr>\n",
       "    <tr>\n",
       "      <td>22</td>\n",
       "      <td>education_unknown</td>\n",
       "      <td>0.001833</td>\n",
       "    </tr>\n",
       "    <tr>\n",
       "      <td>13</td>\n",
       "      <td>job_self-employed</td>\n",
       "      <td>0.001693</td>\n",
       "    </tr>\n",
       "    <tr>\n",
       "      <td>5</td>\n",
       "      <td>default_cat</td>\n",
       "      <td>0.001346</td>\n",
       "    </tr>\n",
       "  </tbody>\n",
       "</table>\n",
       "</div>"
      ],
      "text/plain": [
       "                feature  importance\n",
       "2              duration    0.520772\n",
       "8          recent_pdays    0.072206\n",
       "24     poutcome_success    0.064813\n",
       "0                   age    0.055579\n",
       "6           housing_cat    0.053639\n",
       "1               balance    0.049658\n",
       "25     poutcome_unknown    0.030031\n",
       "3              campaign    0.029636\n",
       "4              previous    0.027206\n",
       "11            job_other    0.016368\n",
       "7              loan_cat    0.010849\n",
       "17      marital_married    0.010456\n",
       "23     poutcome_failure    0.010322\n",
       "21   education_tertiary    0.007391\n",
       "9       job_blue-collar    0.006887\n",
       "18       marital_single    0.006368\n",
       "19    education_primary    0.005777\n",
       "20  education_secondary    0.004939\n",
       "15     job_white-collar    0.002905\n",
       "14       job_technician    0.002682\n",
       "12      job_pink-collar    0.002289\n",
       "16     marital_divorced    0.002206\n",
       "10     job_entrepreneur    0.002151\n",
       "22    education_unknown    0.001833\n",
       "13    job_self-employed    0.001693\n",
       "5           default_cat    0.001346"
      ]
     },
     "execution_count": 39,
     "metadata": {},
     "output_type": "execute_result"
    }
   ],
   "source": [
    "pd.DataFrame({'feature': list(X_train.columns),\n",
    "                   'importance': model.feature_importances_}).\\\n",
    "                    sort_values('importance', ascending = False)"
   ]
  },
  {
   "cell_type": "code",
   "execution_count": 49,
   "metadata": {},
   "outputs": [],
   "source": [
    "X=data.drop(columns=[\"deposit_cat\",'Unnamed: 0', \"duration\"], axis=1)\n",
    "y=data.deposit_cat\n",
    "X_train,X_test,y_train, y_test=train_test_split(X,y,  test_size = 0.2, random_state = 50)\n",
    "\n",
    "model = RandomForestClassifier(n_estimators=16, \n",
    "                               bootstrap=False, criterion='entropy',\n",
    "                               min_samples_split=10,\n",
    "                               max_depth=10, max_features='auto')\n",
    "model.fit(X_train, y_train)\n",
    "y_pred_train =model.predict(X_train)\n",
    "y_pred_test =model.predict(X_test)"
   ]
  },
  {
   "cell_type": "code",
   "execution_count": 41,
   "metadata": {},
   "outputs": [
    {
     "name": "stdout",
     "output_type": "stream",
     "text": [
      "              precision    recall  f1-score   support\n",
      "\n",
      "           0       0.71      0.88      0.78      4700\n",
      "           1       0.81      0.60      0.69      4229\n",
      "\n",
      "    accuracy                           0.74      8929\n",
      "   macro avg       0.76      0.74      0.73      8929\n",
      "weighted avg       0.76      0.74      0.74      8929\n",
      "\n"
     ]
    }
   ],
   "source": [
    "print(classification_report(y_train, y_pred_train))"
   ]
  },
  {
   "cell_type": "code",
   "execution_count": 42,
   "metadata": {},
   "outputs": [
    {
     "name": "stdout",
     "output_type": "stream",
     "text": [
      "              precision    recall  f1-score   support\n",
      "\n",
      "           0       0.66      0.83      0.73      1173\n",
      "           1       0.74      0.52      0.61      1060\n",
      "\n",
      "    accuracy                           0.68      2233\n",
      "   macro avg       0.70      0.68      0.67      2233\n",
      "weighted avg       0.69      0.68      0.68      2233\n",
      "\n"
     ]
    }
   ],
   "source": [
    "print(classification_report(y_test, y_pred_test))"
   ]
  },
  {
   "cell_type": "code",
   "execution_count": 43,
   "metadata": {},
   "outputs": [
    {
     "data": {
      "text/html": [
       "<div>\n",
       "<style scoped>\n",
       "    .dataframe tbody tr th:only-of-type {\n",
       "        vertical-align: middle;\n",
       "    }\n",
       "\n",
       "    .dataframe tbody tr th {\n",
       "        vertical-align: top;\n",
       "    }\n",
       "\n",
       "    .dataframe thead th {\n",
       "        text-align: right;\n",
       "    }\n",
       "</style>\n",
       "<table border=\"1\" class=\"dataframe\">\n",
       "  <thead>\n",
       "    <tr style=\"text-align: right;\">\n",
       "      <th></th>\n",
       "      <th>feature</th>\n",
       "      <th>importance</th>\n",
       "    </tr>\n",
       "  </thead>\n",
       "  <tbody>\n",
       "    <tr>\n",
       "      <td>23</td>\n",
       "      <td>poutcome_success</td>\n",
       "      <td>0.153372</td>\n",
       "    </tr>\n",
       "    <tr>\n",
       "      <td>0</td>\n",
       "      <td>age</td>\n",
       "      <td>0.127518</td>\n",
       "    </tr>\n",
       "    <tr>\n",
       "      <td>1</td>\n",
       "      <td>balance</td>\n",
       "      <td>0.121627</td>\n",
       "    </tr>\n",
       "    <tr>\n",
       "      <td>7</td>\n",
       "      <td>recent_pdays</td>\n",
       "      <td>0.107687</td>\n",
       "    </tr>\n",
       "    <tr>\n",
       "      <td>5</td>\n",
       "      <td>housing_cat</td>\n",
       "      <td>0.095898</td>\n",
       "    </tr>\n",
       "    <tr>\n",
       "      <td>2</td>\n",
       "      <td>campaign</td>\n",
       "      <td>0.063347</td>\n",
       "    </tr>\n",
       "    <tr>\n",
       "      <td>24</td>\n",
       "      <td>poutcome_unknown</td>\n",
       "      <td>0.061534</td>\n",
       "    </tr>\n",
       "    <tr>\n",
       "      <td>3</td>\n",
       "      <td>previous</td>\n",
       "      <td>0.057827</td>\n",
       "    </tr>\n",
       "    <tr>\n",
       "      <td>22</td>\n",
       "      <td>poutcome_failure</td>\n",
       "      <td>0.033714</td>\n",
       "    </tr>\n",
       "    <tr>\n",
       "      <td>10</td>\n",
       "      <td>job_other</td>\n",
       "      <td>0.030765</td>\n",
       "    </tr>\n",
       "    <tr>\n",
       "      <td>6</td>\n",
       "      <td>loan_cat</td>\n",
       "      <td>0.023790</td>\n",
       "    </tr>\n",
       "    <tr>\n",
       "      <td>17</td>\n",
       "      <td>marital_single</td>\n",
       "      <td>0.018801</td>\n",
       "    </tr>\n",
       "    <tr>\n",
       "      <td>16</td>\n",
       "      <td>marital_married</td>\n",
       "      <td>0.017915</td>\n",
       "    </tr>\n",
       "    <tr>\n",
       "      <td>20</td>\n",
       "      <td>education_tertiary</td>\n",
       "      <td>0.016880</td>\n",
       "    </tr>\n",
       "    <tr>\n",
       "      <td>18</td>\n",
       "      <td>education_primary</td>\n",
       "      <td>0.012037</td>\n",
       "    </tr>\n",
       "    <tr>\n",
       "      <td>8</td>\n",
       "      <td>job_blue-collar</td>\n",
       "      <td>0.009078</td>\n",
       "    </tr>\n",
       "    <tr>\n",
       "      <td>19</td>\n",
       "      <td>education_secondary</td>\n",
       "      <td>0.008600</td>\n",
       "    </tr>\n",
       "    <tr>\n",
       "      <td>14</td>\n",
       "      <td>job_white-collar</td>\n",
       "      <td>0.006634</td>\n",
       "    </tr>\n",
       "    <tr>\n",
       "      <td>21</td>\n",
       "      <td>education_unknown</td>\n",
       "      <td>0.005377</td>\n",
       "    </tr>\n",
       "    <tr>\n",
       "      <td>13</td>\n",
       "      <td>job_technician</td>\n",
       "      <td>0.005343</td>\n",
       "    </tr>\n",
       "    <tr>\n",
       "      <td>12</td>\n",
       "      <td>job_self-employed</td>\n",
       "      <td>0.004831</td>\n",
       "    </tr>\n",
       "    <tr>\n",
       "      <td>11</td>\n",
       "      <td>job_pink-collar</td>\n",
       "      <td>0.004815</td>\n",
       "    </tr>\n",
       "    <tr>\n",
       "      <td>15</td>\n",
       "      <td>marital_divorced</td>\n",
       "      <td>0.004608</td>\n",
       "    </tr>\n",
       "    <tr>\n",
       "      <td>4</td>\n",
       "      <td>default_cat</td>\n",
       "      <td>0.004037</td>\n",
       "    </tr>\n",
       "    <tr>\n",
       "      <td>9</td>\n",
       "      <td>job_entrepreneur</td>\n",
       "      <td>0.003965</td>\n",
       "    </tr>\n",
       "  </tbody>\n",
       "</table>\n",
       "</div>"
      ],
      "text/plain": [
       "                feature  importance\n",
       "23     poutcome_success    0.153372\n",
       "0                   age    0.127518\n",
       "1               balance    0.121627\n",
       "7          recent_pdays    0.107687\n",
       "5           housing_cat    0.095898\n",
       "2              campaign    0.063347\n",
       "24     poutcome_unknown    0.061534\n",
       "3              previous    0.057827\n",
       "22     poutcome_failure    0.033714\n",
       "10            job_other    0.030765\n",
       "6              loan_cat    0.023790\n",
       "17       marital_single    0.018801\n",
       "16      marital_married    0.017915\n",
       "20   education_tertiary    0.016880\n",
       "18    education_primary    0.012037\n",
       "8       job_blue-collar    0.009078\n",
       "19  education_secondary    0.008600\n",
       "14     job_white-collar    0.006634\n",
       "21    education_unknown    0.005377\n",
       "13       job_technician    0.005343\n",
       "12    job_self-employed    0.004831\n",
       "11      job_pink-collar    0.004815\n",
       "15     marital_divorced    0.004608\n",
       "4           default_cat    0.004037\n",
       "9      job_entrepreneur    0.003965"
      ]
     },
     "execution_count": 43,
     "metadata": {},
     "output_type": "execute_result"
    }
   ],
   "source": [
    "pd.DataFrame({'feature': list(X_train.columns),\n",
    "                   'importance': model.feature_importances_}).\\\n",
    "                    sort_values('importance', ascending = False)"
   ]
  },
  {
   "cell_type": "code",
   "execution_count": 51,
   "metadata": {},
   "outputs": [
    {
     "name": "stdout",
     "output_type": "stream",
     "text": [
      "Fitting 5 folds for each of 1152 candidates, totalling 5760 fits\n"
     ]
    },
    {
     "name": "stderr",
     "output_type": "stream",
     "text": [
      "[Parallel(n_jobs=-1)]: Using backend LokyBackend with 4 concurrent workers.\n",
      "[Parallel(n_jobs=-1)]: Done  42 tasks      | elapsed:   16.2s\n",
      "[Parallel(n_jobs=-1)]: Done 192 tasks      | elapsed:   35.3s\n",
      "[Parallel(n_jobs=-1)]: Done 442 tasks      | elapsed:  1.5min\n",
      "[Parallel(n_jobs=-1)]: Done 792 tasks      | elapsed:  2.9min\n",
      "[Parallel(n_jobs=-1)]: Done 1242 tasks      | elapsed:  4.9min\n",
      "[Parallel(n_jobs=-1)]: Done 1792 tasks      | elapsed:  7.5min\n",
      "[Parallel(n_jobs=-1)]: Done 2442 tasks      | elapsed: 10.2min\n",
      "[Parallel(n_jobs=-1)]: Done 3192 tasks      | elapsed: 14.5min\n",
      "[Parallel(n_jobs=-1)]: Done 4042 tasks      | elapsed: 19.0min\n",
      "[Parallel(n_jobs=-1)]: Done 4992 tasks      | elapsed: 24.4min\n",
      "[Parallel(n_jobs=-1)]: Done 5760 out of 5760 | elapsed: 30.6min finished\n"
     ]
    },
    {
     "name": "stdout",
     "output_type": "stream",
     "text": [
      "Best Parameters using grid search: \n",
      " {'bootstrap': False, 'criterion': 'gini', 'max_depth': 8, 'max_features': 'auto', 'min_samples_split': 6, 'n_estimators': 35}\n",
      "Time taken in grid search:  1835.67\n"
     ]
    }
   ],
   "source": [
    "fit_rf = RandomForestClassifier(random_state=42)\n",
    "start = time.time()\n",
    "param_dist = {'max_depth':[5,6,8,10],\n",
    "              'min_samples_split':[2,4,6,10],\n",
    "              'n_estimators':[15,20,25,30,35,40],\n",
    "              'bootstrap': [True, False],\n",
    "              'max_features': ['auto', 'sqrt', None],\n",
    "              'criterion': ['gini', 'entropy']}\n",
    "\n",
    "cv_rf = GridSearchCV(fit_rf, cv = 5,\n",
    "                     param_grid=param_dist, \n",
    "                     n_jobs = -1, verbose=1)\n",
    "\n",
    "cv_rf.fit(X_train, y_train)\n",
    "print('Best Parameters using grid search: \\n', \n",
    "      cv_rf.best_params_)\n",
    "end = time.time()\n",
    "print('Time taken in grid search: {0: .2f}'.format(end - start))"
   ]
  },
  {
   "cell_type": "code",
   "execution_count": 52,
   "metadata": {},
   "outputs": [],
   "source": [
    "# param_dist = {'max_depth':[5,6,8,10],\n",
    "#               'min_samples_split':[2,4,6,10],\n",
    "#               'n_estimators':[15,20,25,30,35,40],\n",
    "#               'bootstrap': [True, False],\n",
    "#               'max_features': ['auto', 'sqrt', None],\n",
    "#               'criterion': ['gini', 'entropy']}"
   ]
  },
  {
   "cell_type": "code",
   "execution_count": 56,
   "metadata": {},
   "outputs": [
    {
     "data": {
      "text/plain": [
       "{'bootstrap': False,\n",
       " 'criterion': 'gini',\n",
       " 'max_depth': 8,\n",
       " 'max_features': 'auto',\n",
       " 'min_samples_split': 6,\n",
       " 'n_estimators': 35}"
      ]
     },
     "execution_count": 56,
     "metadata": {},
     "output_type": "execute_result"
    }
   ],
   "source": [
    "cv_rf.best_params_"
   ]
  },
  {
   "cell_type": "code",
   "execution_count": 54,
   "metadata": {},
   "outputs": [
    {
     "data": {
      "text/plain": [
       "0.6904468585507896"
      ]
     },
     "execution_count": 54,
     "metadata": {},
     "output_type": "execute_result"
    }
   ],
   "source": [
    "cv_rf.best_score_"
   ]
  },
  {
   "cell_type": "code",
   "execution_count": 57,
   "metadata": {},
   "outputs": [],
   "source": [
    "X=data.drop(columns=[\"deposit_cat\",'Unnamed: 0', \"duration\"], axis=1)\n",
    "y=data.deposit_cat\n",
    "X_train,X_test,y_train, y_test=train_test_split(X,y,  test_size = 0.2, random_state = 50)\n",
    "\n",
    "model = RandomForestClassifier(n_estimators=cv_rf.best_params_[\"n_estimators\"], \n",
    "                               bootstrap=cv_rf.best_params_[\"bootstrap\"], \n",
    "                               criterion=cv_rf.best_params_[\"criterion\"],\n",
    "                               min_samples_split=cv_rf.best_params_[\"min_samples_split\"],\n",
    "                               max_depth=cv_rf.best_params_[\"max_depth\"], \n",
    "                               max_features=cv_rf.best_params_[\"max_features\"])\n",
    "model.fit(X_train, y_train)\n",
    "y_pred_train =model.predict(X_train)\n",
    "y_pred_test =model.predict(X_test)"
   ]
  },
  {
   "cell_type": "code",
   "execution_count": 58,
   "metadata": {},
   "outputs": [
    {
     "name": "stdout",
     "output_type": "stream",
     "text": [
      "              precision    recall  f1-score   support\n",
      "\n",
      "           0       0.68      0.89      0.77      4700\n",
      "           1       0.81      0.53      0.64      4229\n",
      "\n",
      "    accuracy                           0.72      8929\n",
      "   macro avg       0.74      0.71      0.71      8929\n",
      "weighted avg       0.74      0.72      0.71      8929\n",
      "\n"
     ]
    }
   ],
   "source": [
    "print(classification_report(y_train, y_pred_train))"
   ]
  },
  {
   "cell_type": "code",
   "execution_count": 59,
   "metadata": {},
   "outputs": [
    {
     "name": "stdout",
     "output_type": "stream",
     "text": [
      "              precision    recall  f1-score   support\n",
      "\n",
      "           0       0.65      0.86      0.74      1173\n",
      "           1       0.76      0.49      0.60      1060\n",
      "\n",
      "    accuracy                           0.68      2233\n",
      "   macro avg       0.70      0.67      0.67      2233\n",
      "weighted avg       0.70      0.68      0.67      2233\n",
      "\n"
     ]
    }
   ],
   "source": [
    "print(classification_report(y_test, y_pred_test))"
   ]
  },
  {
   "cell_type": "code",
   "execution_count": 60,
   "metadata": {},
   "outputs": [
    {
     "data": {
      "text/html": [
       "<div>\n",
       "<style scoped>\n",
       "    .dataframe tbody tr th:only-of-type {\n",
       "        vertical-align: middle;\n",
       "    }\n",
       "\n",
       "    .dataframe tbody tr th {\n",
       "        vertical-align: top;\n",
       "    }\n",
       "\n",
       "    .dataframe thead th {\n",
       "        text-align: right;\n",
       "    }\n",
       "</style>\n",
       "<table border=\"1\" class=\"dataframe\">\n",
       "  <thead>\n",
       "    <tr style=\"text-align: right;\">\n",
       "      <th></th>\n",
       "      <th>feature</th>\n",
       "      <th>importance</th>\n",
       "    </tr>\n",
       "  </thead>\n",
       "  <tbody>\n",
       "    <tr>\n",
       "      <td>23</td>\n",
       "      <td>poutcome_success</td>\n",
       "      <td>0.201219</td>\n",
       "    </tr>\n",
       "    <tr>\n",
       "      <td>0</td>\n",
       "      <td>age</td>\n",
       "      <td>0.127826</td>\n",
       "    </tr>\n",
       "    <tr>\n",
       "      <td>5</td>\n",
       "      <td>housing_cat</td>\n",
       "      <td>0.107041</td>\n",
       "    </tr>\n",
       "    <tr>\n",
       "      <td>3</td>\n",
       "      <td>previous</td>\n",
       "      <td>0.096424</td>\n",
       "    </tr>\n",
       "    <tr>\n",
       "      <td>1</td>\n",
       "      <td>balance</td>\n",
       "      <td>0.088714</td>\n",
       "    </tr>\n",
       "    <tr>\n",
       "      <td>7</td>\n",
       "      <td>recent_pdays</td>\n",
       "      <td>0.078567</td>\n",
       "    </tr>\n",
       "    <tr>\n",
       "      <td>24</td>\n",
       "      <td>poutcome_unknown</td>\n",
       "      <td>0.056429</td>\n",
       "    </tr>\n",
       "    <tr>\n",
       "      <td>2</td>\n",
       "      <td>campaign</td>\n",
       "      <td>0.047791</td>\n",
       "    </tr>\n",
       "    <tr>\n",
       "      <td>10</td>\n",
       "      <td>job_other</td>\n",
       "      <td>0.042342</td>\n",
       "    </tr>\n",
       "    <tr>\n",
       "      <td>22</td>\n",
       "      <td>poutcome_failure</td>\n",
       "      <td>0.032494</td>\n",
       "    </tr>\n",
       "    <tr>\n",
       "      <td>17</td>\n",
       "      <td>marital_single</td>\n",
       "      <td>0.023676</td>\n",
       "    </tr>\n",
       "    <tr>\n",
       "      <td>16</td>\n",
       "      <td>marital_married</td>\n",
       "      <td>0.019825</td>\n",
       "    </tr>\n",
       "    <tr>\n",
       "      <td>6</td>\n",
       "      <td>loan_cat</td>\n",
       "      <td>0.017593</td>\n",
       "    </tr>\n",
       "    <tr>\n",
       "      <td>20</td>\n",
       "      <td>education_tertiary</td>\n",
       "      <td>0.016306</td>\n",
       "    </tr>\n",
       "    <tr>\n",
       "      <td>8</td>\n",
       "      <td>job_blue-collar</td>\n",
       "      <td>0.011159</td>\n",
       "    </tr>\n",
       "    <tr>\n",
       "      <td>18</td>\n",
       "      <td>education_primary</td>\n",
       "      <td>0.007020</td>\n",
       "    </tr>\n",
       "    <tr>\n",
       "      <td>19</td>\n",
       "      <td>education_secondary</td>\n",
       "      <td>0.005058</td>\n",
       "    </tr>\n",
       "    <tr>\n",
       "      <td>14</td>\n",
       "      <td>job_white-collar</td>\n",
       "      <td>0.003697</td>\n",
       "    </tr>\n",
       "    <tr>\n",
       "      <td>15</td>\n",
       "      <td>marital_divorced</td>\n",
       "      <td>0.003269</td>\n",
       "    </tr>\n",
       "    <tr>\n",
       "      <td>21</td>\n",
       "      <td>education_unknown</td>\n",
       "      <td>0.002553</td>\n",
       "    </tr>\n",
       "    <tr>\n",
       "      <td>12</td>\n",
       "      <td>job_self-employed</td>\n",
       "      <td>0.002444</td>\n",
       "    </tr>\n",
       "    <tr>\n",
       "      <td>13</td>\n",
       "      <td>job_technician</td>\n",
       "      <td>0.002392</td>\n",
       "    </tr>\n",
       "    <tr>\n",
       "      <td>4</td>\n",
       "      <td>default_cat</td>\n",
       "      <td>0.002252</td>\n",
       "    </tr>\n",
       "    <tr>\n",
       "      <td>11</td>\n",
       "      <td>job_pink-collar</td>\n",
       "      <td>0.001973</td>\n",
       "    </tr>\n",
       "    <tr>\n",
       "      <td>9</td>\n",
       "      <td>job_entrepreneur</td>\n",
       "      <td>0.001935</td>\n",
       "    </tr>\n",
       "  </tbody>\n",
       "</table>\n",
       "</div>"
      ],
      "text/plain": [
       "                feature  importance\n",
       "23     poutcome_success    0.201219\n",
       "0                   age    0.127826\n",
       "5           housing_cat    0.107041\n",
       "3              previous    0.096424\n",
       "1               balance    0.088714\n",
       "7          recent_pdays    0.078567\n",
       "24     poutcome_unknown    0.056429\n",
       "2              campaign    0.047791\n",
       "10            job_other    0.042342\n",
       "22     poutcome_failure    0.032494\n",
       "17       marital_single    0.023676\n",
       "16      marital_married    0.019825\n",
       "6              loan_cat    0.017593\n",
       "20   education_tertiary    0.016306\n",
       "8       job_blue-collar    0.011159\n",
       "18    education_primary    0.007020\n",
       "19  education_secondary    0.005058\n",
       "14     job_white-collar    0.003697\n",
       "15     marital_divorced    0.003269\n",
       "21    education_unknown    0.002553\n",
       "12    job_self-employed    0.002444\n",
       "13       job_technician    0.002392\n",
       "4           default_cat    0.002252\n",
       "11      job_pink-collar    0.001973\n",
       "9      job_entrepreneur    0.001935"
      ]
     },
     "execution_count": 60,
     "metadata": {},
     "output_type": "execute_result"
    }
   ],
   "source": [
    "pd.DataFrame({'feature': list(X_train.columns),\n",
    "                   'importance': model.feature_importances_}).\\\n",
    "                    sort_values('importance', ascending = False)"
   ]
  },
  {
   "cell_type": "code",
   "execution_count": 61,
   "metadata": {},
   "outputs": [],
   "source": [
    "selected_var=['poutcome_success',\n",
    "'age',\n",
    "'housing_cat',\n",
    "'previous',\n",
    "'balance',\n",
    "'recent_pdays',\n",
    "'poutcome_unknown',\n",
    "'campaign',\n",
    "'job_other',\n",
    "'poutcome_failure',\n",
    "'marital_single',\n",
    "'marital_married',\n",
    "'loan_cat',\n",
    "'education_tertiary',\n",
    "'job_blue-collar']"
   ]
  },
  {
   "cell_type": "code",
   "execution_count": 62,
   "metadata": {},
   "outputs": [],
   "source": [
    "\n",
    "X=X[selected_var]\n",
    "y=data.deposit_cat\n",
    "X_train,X_test,y_train, y_test=train_test_split(X,y,  test_size = 0.2, random_state = 50)\n",
    "\n",
    "model = RandomForestClassifier(n_estimators=cv_rf.best_params_[\"n_estimators\"], \n",
    "                               bootstrap=cv_rf.best_params_[\"bootstrap\"], \n",
    "                               criterion=cv_rf.best_params_[\"criterion\"],\n",
    "                               min_samples_split=cv_rf.best_params_[\"min_samples_split\"],\n",
    "                               max_depth=cv_rf.best_params_[\"max_depth\"], \n",
    "                               max_features=cv_rf.best_params_[\"max_features\"])\n",
    "model.fit(X_train, y_train)\n",
    "y_pred_train =model.predict(X_train)\n",
    "y_pred_test =model.predict(X_test)"
   ]
  },
  {
   "cell_type": "code",
   "execution_count": 63,
   "metadata": {},
   "outputs": [
    {
     "name": "stdout",
     "output_type": "stream",
     "text": [
      "              precision    recall  f1-score   support\n",
      "\n",
      "           0       0.68      0.87      0.76      4700\n",
      "           1       0.79      0.55      0.65      4229\n",
      "\n",
      "    accuracy                           0.72      8929\n",
      "   macro avg       0.74      0.71      0.71      8929\n",
      "weighted avg       0.73      0.72      0.71      8929\n",
      "\n"
     ]
    }
   ],
   "source": [
    "print(classification_report(y_train, y_pred_train))"
   ]
  },
  {
   "cell_type": "code",
   "execution_count": 64,
   "metadata": {},
   "outputs": [
    {
     "name": "stdout",
     "output_type": "stream",
     "text": [
      "              precision    recall  f1-score   support\n",
      "\n",
      "           0       0.66      0.84      0.74      1173\n",
      "           1       0.75      0.52      0.61      1060\n",
      "\n",
      "    accuracy                           0.69      2233\n",
      "   macro avg       0.70      0.68      0.68      2233\n",
      "weighted avg       0.70      0.69      0.68      2233\n",
      "\n"
     ]
    }
   ],
   "source": [
    "print(classification_report(y_test, y_pred_test))"
   ]
  },
  {
   "cell_type": "code",
   "execution_count": null,
   "metadata": {},
   "outputs": [],
   "source": []
  },
  {
   "cell_type": "code",
   "execution_count": null,
   "metadata": {},
   "outputs": [],
   "source": []
  },
  {
   "cell_type": "code",
   "execution_count": 19,
   "metadata": {},
   "outputs": [],
   "source": [
    "data=pd.read_csv(\"rf_bank.csv\")\n",
    "X=data.drop(columns=[\"deposit_cat\"], axis=1)\n",
    "y=data.deposit_cat\n",
    "X_train,X_test,y_train, y_test=train_test_split(X,y,  test_size = 0.2, random_state = 50)\n",
    "\n",
    "model = RandomForestClassifier(n_estimators=16, \n",
    "                               bootstrap=False, criterion='entropy',\n",
    "                               min_samples_split=10,\n",
    "                               max_depth=10, max_features='auto')\n",
    "model.fit(X_train, y_train)\n",
    "fi = pd.DataFrame({'feature': list(X_train.columns),\n",
    "                   'importance': model.feature_importances_}).\\\n",
    "                    sort_values('importance', ascending = False)"
   ]
  },
  {
   "cell_type": "code",
   "execution_count": 20,
   "metadata": {},
   "outputs": [
    {
     "data": {
      "text/html": [
       "<div>\n",
       "<style scoped>\n",
       "    .dataframe tbody tr th:only-of-type {\n",
       "        vertical-align: middle;\n",
       "    }\n",
       "\n",
       "    .dataframe tbody tr th {\n",
       "        vertical-align: top;\n",
       "    }\n",
       "\n",
       "    .dataframe thead th {\n",
       "        text-align: right;\n",
       "    }\n",
       "</style>\n",
       "<table border=\"1\" class=\"dataframe\">\n",
       "  <thead>\n",
       "    <tr style=\"text-align: right;\">\n",
       "      <th></th>\n",
       "      <th>feature</th>\n",
       "      <th>importance</th>\n",
       "    </tr>\n",
       "  </thead>\n",
       "  <tbody>\n",
       "    <tr>\n",
       "      <td>2</td>\n",
       "      <td>duration</td>\n",
       "      <td>0.441047</td>\n",
       "    </tr>\n",
       "    <tr>\n",
       "      <td>24</td>\n",
       "      <td>poutcome_success</td>\n",
       "      <td>0.133824</td>\n",
       "    </tr>\n",
       "    <tr>\n",
       "      <td>6</td>\n",
       "      <td>housing_cat</td>\n",
       "      <td>0.082861</td>\n",
       "    </tr>\n",
       "    <tr>\n",
       "      <td>4</td>\n",
       "      <td>previous</td>\n",
       "      <td>0.076420</td>\n",
       "    </tr>\n",
       "    <tr>\n",
       "      <td>8</td>\n",
       "      <td>recent_pdays</td>\n",
       "      <td>0.071275</td>\n",
       "    </tr>\n",
       "    <tr>\n",
       "      <td>25</td>\n",
       "      <td>poutcome_unknown</td>\n",
       "      <td>0.044116</td>\n",
       "    </tr>\n",
       "    <tr>\n",
       "      <td>0</td>\n",
       "      <td>age</td>\n",
       "      <td>0.036988</td>\n",
       "    </tr>\n",
       "    <tr>\n",
       "      <td>1</td>\n",
       "      <td>balance</td>\n",
       "      <td>0.028873</td>\n",
       "    </tr>\n",
       "    <tr>\n",
       "      <td>11</td>\n",
       "      <td>job_other</td>\n",
       "      <td>0.019928</td>\n",
       "    </tr>\n",
       "    <tr>\n",
       "      <td>23</td>\n",
       "      <td>poutcome_failure</td>\n",
       "      <td>0.013879</td>\n",
       "    </tr>\n",
       "    <tr>\n",
       "      <td>3</td>\n",
       "      <td>campaign</td>\n",
       "      <td>0.011257</td>\n",
       "    </tr>\n",
       "    <tr>\n",
       "      <td>17</td>\n",
       "      <td>marital_married</td>\n",
       "      <td>0.009516</td>\n",
       "    </tr>\n",
       "    <tr>\n",
       "      <td>7</td>\n",
       "      <td>loan_cat</td>\n",
       "      <td>0.008089</td>\n",
       "    </tr>\n",
       "    <tr>\n",
       "      <td>18</td>\n",
       "      <td>marital_single</td>\n",
       "      <td>0.007280</td>\n",
       "    </tr>\n",
       "    <tr>\n",
       "      <td>9</td>\n",
       "      <td>job_blue-collar</td>\n",
       "      <td>0.006693</td>\n",
       "    </tr>\n",
       "    <tr>\n",
       "      <td>21</td>\n",
       "      <td>education_tertiary</td>\n",
       "      <td>0.005472</td>\n",
       "    </tr>\n",
       "    <tr>\n",
       "      <td>19</td>\n",
       "      <td>education_primary</td>\n",
       "      <td>0.000765</td>\n",
       "    </tr>\n",
       "    <tr>\n",
       "      <td>20</td>\n",
       "      <td>education_secondary</td>\n",
       "      <td>0.000667</td>\n",
       "    </tr>\n",
       "    <tr>\n",
       "      <td>16</td>\n",
       "      <td>marital_divorced</td>\n",
       "      <td>0.000213</td>\n",
       "    </tr>\n",
       "    <tr>\n",
       "      <td>10</td>\n",
       "      <td>job_entrepreneur</td>\n",
       "      <td>0.000197</td>\n",
       "    </tr>\n",
       "    <tr>\n",
       "      <td>12</td>\n",
       "      <td>job_pink-collar</td>\n",
       "      <td>0.000126</td>\n",
       "    </tr>\n",
       "    <tr>\n",
       "      <td>14</td>\n",
       "      <td>job_technician</td>\n",
       "      <td>0.000126</td>\n",
       "    </tr>\n",
       "    <tr>\n",
       "      <td>22</td>\n",
       "      <td>education_unknown</td>\n",
       "      <td>0.000121</td>\n",
       "    </tr>\n",
       "    <tr>\n",
       "      <td>13</td>\n",
       "      <td>job_self-employed</td>\n",
       "      <td>0.000106</td>\n",
       "    </tr>\n",
       "    <tr>\n",
       "      <td>5</td>\n",
       "      <td>default_cat</td>\n",
       "      <td>0.000086</td>\n",
       "    </tr>\n",
       "    <tr>\n",
       "      <td>15</td>\n",
       "      <td>job_white-collar</td>\n",
       "      <td>0.000078</td>\n",
       "    </tr>\n",
       "  </tbody>\n",
       "</table>\n",
       "</div>"
      ],
      "text/plain": [
       "                feature  importance\n",
       "2              duration    0.441047\n",
       "24     poutcome_success    0.133824\n",
       "6           housing_cat    0.082861\n",
       "4              previous    0.076420\n",
       "8          recent_pdays    0.071275\n",
       "25     poutcome_unknown    0.044116\n",
       "0                   age    0.036988\n",
       "1               balance    0.028873\n",
       "11            job_other    0.019928\n",
       "23     poutcome_failure    0.013879\n",
       "3              campaign    0.011257\n",
       "17      marital_married    0.009516\n",
       "7              loan_cat    0.008089\n",
       "18       marital_single    0.007280\n",
       "9       job_blue-collar    0.006693\n",
       "21   education_tertiary    0.005472\n",
       "19    education_primary    0.000765\n",
       "20  education_secondary    0.000667\n",
       "16     marital_divorced    0.000213\n",
       "10     job_entrepreneur    0.000197\n",
       "12      job_pink-collar    0.000126\n",
       "14       job_technician    0.000126\n",
       "22    education_unknown    0.000121\n",
       "13    job_self-employed    0.000106\n",
       "5           default_cat    0.000086\n",
       "15     job_white-collar    0.000078"
      ]
     },
     "execution_count": 20,
     "metadata": {},
     "output_type": "execute_result"
    }
   ],
   "source": [
    "fi"
   ]
  },
  {
   "cell_type": "code",
   "execution_count": 21,
   "metadata": {},
   "outputs": [
    {
     "data": {
      "text/plain": [
       "array([3.69878349e-02, 2.88734998e-02, 4.41046975e-01, 1.12571205e-02,\n",
       "       7.64196448e-02, 8.59906172e-05, 8.28608501e-02, 8.08892055e-03,\n",
       "       7.12746331e-02, 6.69300210e-03, 1.96642875e-04, 1.99281257e-02,\n",
       "       1.25821032e-04, 1.05817223e-04, 1.25635725e-04, 7.75678894e-05,\n",
       "       2.12811457e-04, 9.51582363e-03, 7.27966795e-03, 7.64879634e-04,\n",
       "       6.67184497e-04, 5.47227895e-03, 1.20824442e-04, 1.38785918e-02,\n",
       "       1.33823699e-01, 4.41161572e-02])"
      ]
     },
     "execution_count": 21,
     "metadata": {},
     "output_type": "execute_result"
    }
   ],
   "source": [
    "model.feature_importances_"
   ]
  },
  {
   "cell_type": "code",
   "execution_count": 22,
   "metadata": {},
   "outputs": [
    {
     "data": {
      "text/plain": [
       "0.8077052301489529"
      ]
     },
     "execution_count": 22,
     "metadata": {},
     "output_type": "execute_result"
    }
   ],
   "source": [
    "model.score(X_train,y_train)"
   ]
  },
  {
   "cell_type": "code",
   "execution_count": 23,
   "metadata": {},
   "outputs": [
    {
     "data": {
      "text/plain": [
       "0.793551276309897"
      ]
     },
     "execution_count": 23,
     "metadata": {},
     "output_type": "execute_result"
    }
   ],
   "source": [
    "model.score(X_test,y_test) "
   ]
  },
  {
   "cell_type": "code",
   "execution_count": 24,
   "metadata": {},
   "outputs": [],
   "source": [
    "import sklearn.metrics as m"
   ]
  },
  {
   "cell_type": "code",
   "execution_count": 25,
   "metadata": {},
   "outputs": [],
   "source": [
    "y_train_pred=model.predict(X_train)"
   ]
  },
  {
   "cell_type": "code",
   "execution_count": 27,
   "metadata": {},
   "outputs": [
    {
     "name": "stdout",
     "output_type": "stream",
     "text": [
      "              precision    recall  f1-score   support\n",
      "\n",
      "           0       0.81      0.83      0.82      4700\n",
      "           1       0.81      0.78      0.79      4229\n",
      "\n",
      "    accuracy                           0.81      8929\n",
      "   macro avg       0.81      0.81      0.81      8929\n",
      "weighted avg       0.81      0.81      0.81      8929\n",
      "\n"
     ]
    }
   ],
   "source": [
    "print(m.classification_report(y_train, y_train_pred))"
   ]
  },
  {
   "cell_type": "code",
   "execution_count": null,
   "metadata": {},
   "outputs": [],
   "source": [
    "y_pred=model.predict(X_test)\n",
    "X_test[\"p_1\"]=model.predict_proba(X_test)[:,1]\n",
    "X_test[\"y_actual\"]=y_test\n",
    "X_test[\"y_pred\"]=y_pred\n",
    "X_test[\"Rank\"]=pd.qcut(X_test[\"p_1\"], 10, labels=np.arange(0,10,1))\n",
    "X_test[\"Numb\"]=10\n",
    "X_test[\"Decile\"]=X_test[\"Numb\"]-X_test[\"Rank\"].astype(\"int\")\n",
    "profiletest=pd.DataFrame(X_test.groupby(\"Decile\").apply(lambda x:pd.Series({\n",
    "    \"min_score\"  :x[\"p_1\"].min(),\n",
    "    \"max_score\"  :x[\"p_1\"].max(),\n",
    "    \"Event\"      :x[\"y_actual\"].sum(),\n",
    "    \"Non_event\"  :x[\"y_actual\"].count()-x[\"y_pred\"].sum(),\n",
    "    \"Total\"      :x[\"y_actual\"].count()\n",
    "})))"
   ]
  }
 ],
 "metadata": {
  "kernelspec": {
   "display_name": "Python 3",
   "language": "python",
   "name": "python3"
  },
  "language_info": {
   "codemirror_mode": {
    "name": "ipython",
    "version": 3
   },
   "file_extension": ".py",
   "mimetype": "text/x-python",
   "name": "python",
   "nbconvert_exporter": "python",
   "pygments_lexer": "ipython3",
   "version": "3.7.4"
  }
 },
 "nbformat": 4,
 "nbformat_minor": 2
}
